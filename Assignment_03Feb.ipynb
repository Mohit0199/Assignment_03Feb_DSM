{
 "cells": [
  {
   "cell_type": "code",
   "execution_count": 2,
   "id": "f52c494e-47e8-495b-b099-1ca0616ed1bb",
   "metadata": {},
   "outputs": [
    {
     "data": {
      "text/plain": [
       "[1, 3, 5, 7, 9, 11, 13, 15, 17, 19, 21, 23]"
      ]
     },
     "execution_count": 2,
     "metadata": {},
     "output_type": "execute_result"
    }
   ],
   "source": [
    "# Q1. Which keyword is used to create a function? Create a function to return a list of odd numbers in the \n",
    "# range of 1 to 25.\n",
    "\n",
    "# \"def\" keyword is used to create a function.\n",
    "\n",
    "def func1():\n",
    "    l = [i for i in range(1, 25) if i%2 != 0]\n",
    "    return l\n",
    "\n",
    "func1()"
   ]
  },
  {
   "cell_type": "code",
   "execution_count": 8,
   "id": "bbadb437-0202-4a32-a174-970405e7af10",
   "metadata": {},
   "outputs": [
    {
     "name": "stdout",
     "output_type": "stream",
     "text": [
      "360\n",
      "{'key1': 4, 'key2': 16, 'key3': 36}\n"
     ]
    }
   ],
   "source": [
    "# Q2. Why *args and **kwargs is used in some functions? Create a function each for *args and **kwargs \n",
    "# to demonstrate their use.\n",
    "\n",
    "## *args allows to pass a variable length of positional arguments to a function.\n",
    "## It collects these arguments into a tuple within the function.\n",
    "\n",
    "## **kwargs allows to pass a variable length of keyword arguments to a function.\n",
    "## It collects these arguments into a dictionary within the function.\n",
    "\n",
    "\n",
    "def func1(*args):\n",
    "    \"\"\"This function returns product of numbers given as input\"\"\"\n",
    "    \n",
    "    total = 1\n",
    "    for i in args:\n",
    "        total *= i\n",
    "    return total\n",
    "\n",
    "print(func1(1, 3, 4, 5, 6))\n",
    "\n",
    "def func2(**kwargs):\n",
    "    \"\"\"This function returns key and square of value passed as input\"\"\"\n",
    "    \n",
    "    dict = {key : value**2 for key, value in kwargs.items()}\n",
    "    return dict\n",
    "\n",
    "print(func2(key1=2, key2=4, key3=6))"
   ]
  },
  {
   "cell_type": "code",
   "execution_count": 12,
   "id": "774f0463-a9c8-465c-ab1a-e28b4be6f886",
   "metadata": {},
   "outputs": [
    {
     "name": "stdout",
     "output_type": "stream",
     "text": [
      "2\n",
      "4\n",
      "6\n",
      "8\n",
      "10\n",
      "\n",
      "2\n",
      "4\n",
      "6\n",
      "8\n",
      "10\n"
     ]
    }
   ],
   "source": [
    "# Q3.  What is an iterator in python? Name the method used to initialise the iterator object and the method \n",
    "# used for iteration. Use these methods to print the first five elements of the given list [2, 4, 6, 8, 10, 12, 14, \n",
    "# 16, 18, 20].\n",
    "\n",
    "## An iterator in Python is an object that is used to iterate over iterable objects like\n",
    "## strings lists, tuples, dicts, and sets.\n",
    "## The method used to initialize an iterator object in Python is iter(),\n",
    "## and the method used for iteration is next().\n",
    "\n",
    "\n",
    "l =  [2, 4, 6, 8, 10, 12, 14, 16, 18, 20]\n",
    "iterator = iter(l)\n",
    "\n",
    "print(next(iterator))\n",
    "print(next(iterator))\n",
    "print(next(iterator))\n",
    "print(next(iterator))\n",
    "print(next(iterator))\n",
    "\n",
    "print()\n",
    "##or can use loop also\n",
    "l =  [2, 4, 6, 8, 10, 12, 14, 16, 18, 20]\n",
    "iterator = iter(l)\n",
    "\n",
    "for i in range(5):\n",
    "    print(next(iterator))"
   ]
  },
  {
   "cell_type": "code",
   "execution_count": 14,
   "id": "c27b21ed-8d20-430b-9f48-d7772883cb1e",
   "metadata": {},
   "outputs": [
    {
     "name": "stdout",
     "output_type": "stream",
     "text": [
      "1\n",
      "4\n",
      "9\n",
      "16\n",
      "25\n",
      "36\n",
      "49\n",
      "64\n",
      "81\n",
      "100\n"
     ]
    }
   ],
   "source": [
    "# Q4.  What is a generator function in python? Why yield keyword is used? Give an example of a generator \n",
    "# function.\n",
    "\n",
    "## A generator in Python is a special type of function that returns an iterator object.\n",
    "## It is like a regular function, but instead of using the return statement, it employs the yield keyword.\n",
    "## Using yield keyword is highly memory efficient, since the execution happens only when the caller iterates over the object.\n",
    "## As the variables states are saved, we can pause and resume from the same point, thus saving time.\n",
    "\n",
    "def generator(n):\n",
    "    for i in range(1, n+1):\n",
    "        yield i ** 2\n",
    "\n",
    "squares_gen = generator(10)\n",
    "\n",
    "for i in squares_gen:\n",
    "    print(i)\n",
    "    \n",
    "## We can loop over genrator only once."
   ]
  },
  {
   "cell_type": "code",
   "execution_count": 18,
   "id": "7485466c-b13d-4783-b042-9934cb26f729",
   "metadata": {},
   "outputs": [
    {
     "name": "stdout",
     "output_type": "stream",
     "text": [
      "2\n",
      "3\n",
      "5\n",
      "7\n",
      "11\n",
      "13\n",
      "17\n",
      "19\n",
      "23\n",
      "29\n",
      "31\n",
      "37\n",
      "41\n",
      "43\n",
      "47\n",
      "53\n",
      "59\n",
      "61\n",
      "67\n",
      "71\n"
     ]
    }
   ],
   "source": [
    "# Q5. Create a generator function for prime numbers less than 1000. Use the next() method to print the \n",
    "# first 20 prime numbers.\n",
    "\n",
    "def primeNumber(n):\n",
    "    i = 2\n",
    "    while i < n :\n",
    "        for a in range(2, i):\n",
    "            if i % a == 0:\n",
    "                break\n",
    "        else:    \n",
    "            yield i\n",
    "        i += 1\n",
    "\n",
    "g = primeNumber(1000)\n",
    "\n",
    "for i in range(20):\n",
    "    print(next(g))"
   ]
  },
  {
   "cell_type": "code",
   "execution_count": 20,
   "id": "25bbf1bf-095c-4ce6-8730-8f4ccea2304d",
   "metadata": {},
   "outputs": [
    {
     "name": "stdout",
     "output_type": "stream",
     "text": [
      "0\n",
      "1\n",
      "1\n",
      "2\n",
      "3\n",
      "5\n",
      "8\n",
      "13\n",
      "21\n",
      "34\n"
     ]
    }
   ],
   "source": [
    "# Q6. Write a python program to print the first 10 Fibonacci numbers using a while loop.\n",
    "\n",
    "a, b = 0, 1\n",
    "count = 0\n",
    "\n",
    "while count < 10:\n",
    "    print(a)\n",
    "    c = a+b\n",
    "    a = b\n",
    "    b = c\n",
    "    count += 1"
   ]
  },
  {
   "cell_type": "code",
   "execution_count": 21,
   "id": "50b396d8-3655-4676-bf54-4fd98c6ae7d8",
   "metadata": {},
   "outputs": [
    {
     "data": {
      "text/plain": [
       "['p', 'w', 's', 'k', 'i', 'l', 'l', 's']"
      ]
     },
     "execution_count": 21,
     "metadata": {},
     "output_type": "execute_result"
    }
   ],
   "source": [
    "# Q7. Write a List Comprehension to iterate through the given string: ‘pwskills’.\n",
    "# Expected output: ['p', 'w', 's', 'k', 'i', 'l', 'l', 's']\n",
    "\n",
    "\n",
    "string = \"pwskills\"\n",
    "l = [i for i in string]\n",
    "l"
   ]
  },
  {
   "cell_type": "code",
   "execution_count": 31,
   "id": "7af3674e-96e2-4c79-bffd-108ec4ac6f7e",
   "metadata": {},
   "outputs": [
    {
     "name": "stdin",
     "output_type": "stream",
     "text": [
      "Number to check:  121\n"
     ]
    },
    {
     "name": "stdout",
     "output_type": "stream",
     "text": [
      "The given number is palindrome.\n"
     ]
    }
   ],
   "source": [
    "# Q8. Write a python program to check whether a given number is Palindrome or not using a while loop.\n",
    "\n",
    "def isPalindrome(n):\n",
    "    temp = n\n",
    "    rev = 0\n",
    "    \n",
    "    while n > 0:\n",
    "        digit = n % 10\n",
    "        rev = rev * 10 + digit\n",
    "        n = n // 10\n",
    "\n",
    "    if temp == rev:\n",
    "        return \"The given number is palindrome.\"\n",
    "    else:\n",
    "        return \"The given number is not palindrome.\"\n",
    "\n",
    "input1 = int(input(\"Number to check: \"))\n",
    "\n",
    "print(isPalindrome(input1))"
   ]
  },
  {
   "cell_type": "code",
   "execution_count": 36,
   "id": "367b80c6-6b24-48d0-92fc-2a57b1af5bfe",
   "metadata": {},
   "outputs": [
    {
     "name": "stdout",
     "output_type": "stream",
     "text": [
      "List from 1 to 100:\n",
      "[1, 2, 3, 4, 5, 6, 7, 8, 9, 10, 11, 12, 13, 14, 15, 16, 17, 18, 19, 20, 21, 22, 23, 24, 25, 26, 27, 28, 29, 30, 31, 32, 33, 34, 35, 36, 37, 38, 39, 40, 41, 42, 43, 44, 45, 46, 47, 48, 49, 50, 51, 52, 53, 54, 55, 56, 57, 58, 59, 60, 61, 62, 63, 64, 65, 66, 67, 68, 69, 70, 71, 72, 73, 74, 75, 76, 77, 78, 79, 80, 81, 82, 83, 84, 85, 86, 87, 88, 89, 90, 91, 92, 93, 94, 95, 96, 97, 98, 99, 100]\n",
      "\n",
      "List of odd numbers from list:\n",
      "[1, 3, 5, 7, 9, 11, 13, 15, 17, 19, 21, 23, 25, 27, 29, 31, 33, 35, 37, 39, 41, 43, 45, 47, 49, 51, 53, 55, 57, 59, 61, 63, 65, 67, 69, 71, 73, 75, 77, 79, 81, 83, 85, 87, 89, 91, 93, 95, 97, 99]\n"
     ]
    }
   ],
   "source": [
    "# Q9. Write a code to print odd numbers from 1 to 100 using list comprehension.\n",
    "# Note: Use a list comprehension to create a list from 1 to 100 and use another List comprehension to filter \n",
    "# out odd numbers.\n",
    "\n",
    "nums = [i for i in range(1, 101)]\n",
    "\n",
    "odd_nums = [i for i in nums if i%2 != 0]\n",
    "\n",
    "print(f\"List from 1 to 100:\\n{nums}\")\n",
    "print()\n",
    "print(f\"List of odd numbers from list:\\n{odd_nums}\")"
   ]
  },
  {
   "cell_type": "code",
   "execution_count": null,
   "id": "d14d8935-433b-4e08-a605-c3f84493f3e6",
   "metadata": {},
   "outputs": [],
   "source": []
  }
 ],
 "metadata": {
  "kernelspec": {
   "display_name": "Python 3 (ipykernel)",
   "language": "python",
   "name": "python3"
  },
  "language_info": {
   "codemirror_mode": {
    "name": "ipython",
    "version": 3
   },
   "file_extension": ".py",
   "mimetype": "text/x-python",
   "name": "python",
   "nbconvert_exporter": "python",
   "pygments_lexer": "ipython3",
   "version": "3.10.8"
  }
 },
 "nbformat": 4,
 "nbformat_minor": 5
}
